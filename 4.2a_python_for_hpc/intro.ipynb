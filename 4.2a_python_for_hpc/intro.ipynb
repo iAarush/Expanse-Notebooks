{
 "cells": [
  {
   "cell_type": "code",
<<<<<<< HEAD
   "execution_count": null,
   "metadata": {},
   "outputs": [],
=======
   "execution_count": 1,
   "metadata": {},
   "outputs": [
    {
     "name": "stdout",
     "output_type": "stream",
     "text": [
      "Hello world\n"
     ]
    }
   ],
>>>>>>> dev_remote/refile
   "source": [
    "print(\"Hello world\")"
   ]
  },
  {
   "cell_type": "code",
<<<<<<< HEAD
   "execution_count": null,
=======
   "execution_count": 2,
>>>>>>> dev_remote/refile
   "metadata": {},
   "outputs": [],
   "source": [
    "a = 3"
   ]
  },
  {
   "cell_type": "code",
<<<<<<< HEAD
   "execution_count": null,
   "metadata": {},
   "outputs": [],
=======
   "execution_count": 3,
   "metadata": {},
   "outputs": [
    {
     "data": {
      "text/plain": [
       "9"
      ]
     },
     "execution_count": 3,
     "metadata": {},
     "output_type": "execute_result"
    }
   ],
>>>>>>> dev_remote/refile
   "source": [
    "a ** 2"
   ]
  },
  {
   "cell_type": "markdown",
   "metadata": {},
   "source": [
    "# Python for HPC\n",
    "\n",
    "* dfsafds\n",
    "* fdsafdsaf\n",
    "\n",
    "$\\int_{0}^{\\infty} e^{-x^2} dx$"
   ]
  },
  {
   "cell_type": "code",
<<<<<<< HEAD
   "execution_count": null,
=======
   "execution_count": 4,
>>>>>>> dev_remote/refile
   "metadata": {},
   "outputs": [],
   "source": [
    "%matplotlib inline"
   ]
  },
  {
   "cell_type": "code",
<<<<<<< HEAD
   "execution_count": null,
=======
   "execution_count": 5,
>>>>>>> dev_remote/refile
   "metadata": {},
   "outputs": [],
   "source": [
    "import matplotlib.pyplot as plt"
   ]
  },
  {
   "cell_type": "code",
<<<<<<< HEAD
   "execution_count": null,
   "metadata": {},
   "outputs": [],
=======
   "execution_count": 6,
   "metadata": {},
   "outputs": [
    {
     "data": {
      "text/plain": [
       "[<matplotlib.lines.Line2D at 0x15552a253100>]"
      ]
     },
     "execution_count": 6,
     "metadata": {},
     "output_type": "execute_result"
    },
    {
     "data": {
      "image/png": "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",
      "text/plain": [
       "<Figure size 640x480 with 1 Axes>"
      ]
     },
     "metadata": {},
     "output_type": "display_data"
    }
   ],
>>>>>>> dev_remote/refile
   "source": [
    "plt.plot([1,2,3,2])"
   ]
  },
  {
   "cell_type": "code",
<<<<<<< HEAD
   "execution_count": null,
=======
   "execution_count": 7,
>>>>>>> dev_remote/refile
   "metadata": {},
   "outputs": [],
   "source": [
    "hostname = !hostname"
   ]
  },
  {
   "cell_type": "code",
<<<<<<< HEAD
   "execution_count": null,
   "metadata": {},
   "outputs": [],
=======
   "execution_count": 8,
   "metadata": {},
   "outputs": [
    {
     "data": {
      "text/plain": [
       "['exp-7-57']"
      ]
     },
     "execution_count": 8,
     "metadata": {},
     "output_type": "execute_result"
    }
   ],
>>>>>>> dev_remote/refile
   "source": [
    "hostname"
   ]
  },
  {
   "cell_type": "markdown",
   "metadata": {},
   "source": [
    "### Check we are not on the login node"
   ]
  },
  {
   "cell_type": "code",
<<<<<<< HEAD
   "execution_count": null,
=======
   "execution_count": 9,
>>>>>>> dev_remote/refile
   "metadata": {},
   "outputs": [],
   "source": [
    "assert \"login\" not in hostname[0]"
   ]
  },
  {
   "cell_type": "markdown",
   "metadata": {},
   "source": [
    "### Check we are running inside the singularity container"
   ]
  },
  {
   "cell_type": "code",
<<<<<<< HEAD
   "execution_count": null,
=======
   "execution_count": 10,
>>>>>>> dev_remote/refile
   "metadata": {},
   "outputs": [],
   "source": [
    "import os"
   ]
  },
  {
   "cell_type": "code",
<<<<<<< HEAD
   "execution_count": null,
   "metadata": {},
   "outputs": [],
=======
   "execution_count": 11,
   "metadata": {},
   "outputs": [
    {
     "ename": "KeyError",
     "evalue": "'SINGULARITY_CONTAINER'",
     "output_type": "error",
     "traceback": [
      "\u001b[0;31m---------------------------------------------------------------------------\u001b[0m",
      "\u001b[0;31mKeyError\u001b[0m                                  Traceback (most recent call last)",
      "Cell \u001b[0;32mIn[11], line 1\u001b[0m\n\u001b[0;32m----> 1\u001b[0m \u001b[38;5;28;01massert\u001b[39;00m \u001b[43mos\u001b[49m\u001b[38;5;241;43m.\u001b[39;49m\u001b[43menviron\u001b[49m\u001b[43m[\u001b[49m\u001b[38;5;124;43m\"\u001b[39;49m\u001b[38;5;124;43mSINGULARITY_CONTAINER\u001b[39;49m\u001b[38;5;124;43m\"\u001b[39;49m\u001b[43m]\u001b[49m \u001b[38;5;241m==\u001b[39m \u001b[38;5;124m'\u001b[39m\u001b[38;5;124m/expanse/lustre/projects/sds166/zonca/dask-numba-si23.sif\u001b[39m\u001b[38;5;124m'\u001b[39m\n",
      "File \u001b[0;32m/scratch/gseo/job_34645357/miniconda3/envs/df-parallel-gpu/lib/python3.10/os.py:680\u001b[0m, in \u001b[0;36m_Environ.__getitem__\u001b[0;34m(self, key)\u001b[0m\n\u001b[1;32m    677\u001b[0m     value \u001b[38;5;241m=\u001b[39m \u001b[38;5;28mself\u001b[39m\u001b[38;5;241m.\u001b[39m_data[\u001b[38;5;28mself\u001b[39m\u001b[38;5;241m.\u001b[39mencodekey(key)]\n\u001b[1;32m    678\u001b[0m \u001b[38;5;28;01mexcept\u001b[39;00m \u001b[38;5;167;01mKeyError\u001b[39;00m:\n\u001b[1;32m    679\u001b[0m     \u001b[38;5;66;03m# raise KeyError with the original key value\u001b[39;00m\n\u001b[0;32m--> 680\u001b[0m     \u001b[38;5;28;01mraise\u001b[39;00m \u001b[38;5;167;01mKeyError\u001b[39;00m(key) \u001b[38;5;28;01mfrom\u001b[39;00m \u001b[38;5;28;01mNone\u001b[39;00m\n\u001b[1;32m    681\u001b[0m \u001b[38;5;28;01mreturn\u001b[39;00m \u001b[38;5;28mself\u001b[39m\u001b[38;5;241m.\u001b[39mdecodevalue(value)\n",
      "\u001b[0;31mKeyError\u001b[0m: 'SINGULARITY_CONTAINER'"
     ]
    }
   ],
>>>>>>> dev_remote/refile
   "source": [
    "assert os.environ[\"SINGULARITY_CONTAINER\"] == '/expanse/lustre/projects/sds166/zonca/dask-numba-si23.sif'"
   ]
  },
  {
   "cell_type": "code",
   "execution_count": null,
   "metadata": {},
   "outputs": [],
   "source": []
  }
 ],
 "metadata": {
  "kernelspec": {
   "display_name": "Python 3 (ipykernel)",
   "language": "python",
   "name": "python3"
  },
  "language_info": {
   "codemirror_mode": {
    "name": "ipython",
    "version": 3
   },
   "file_extension": ".py",
   "mimetype": "text/x-python",
   "name": "python",
   "nbconvert_exporter": "python",
   "pygments_lexer": "ipython3",
<<<<<<< HEAD
   "version": "3.9.7"
=======
   "version": "3.10.13"
>>>>>>> dev_remote/refile
  }
 },
 "nbformat": 4,
 "nbformat_minor": 4
}
