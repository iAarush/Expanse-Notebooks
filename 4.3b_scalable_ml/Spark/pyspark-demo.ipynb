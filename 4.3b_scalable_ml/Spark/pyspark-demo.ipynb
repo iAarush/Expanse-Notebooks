{
 "cells": [
  {
   "cell_type": "markdown",
   "metadata": {},
   "source": [
    "# PySpark Scaling Demo\n",
    "\n",
    "## SDSC Summer Institute\n",
    "\n",
    "Mai H. Nguyen - UC San Diego\n",
    "\n",
    "--- "
   ]
  },
  {
   "cell_type": "markdown",
   "metadata": {},
   "source": [
    "## Setup"
   ]
  },
  {
   "cell_type": "code",
   "execution_count": 1,
   "metadata": {},
   "outputs": [
    {
     "name": "stdout",
     "output_type": "stream",
     "text": [
      "3.1.2\n"
     ]
    }
   ],
   "source": [
    "# Import modules\n",
    "import os\n",
    "\n",
    "# Initialize Spark\n",
    "\n",
    "import pyspark\n",
    "from pyspark.sql import SparkSession, Row\n",
    "\n",
    "# Change N in local[N] to change number of resources \n",
    "# Note change in execution time\n",
    "conf = pyspark.SparkConf().setAll([('spark.master', 'local[1]'),\n",
    "                                   ('spark.app.name', 'Spark Demo'),\n",
    "                                   ('spark.driver.memory','3G'),\n",
    "                                   ('spark.driver.maxresultsize','2G'),\n",
    "                                   ('spark.executor.memory','2G')])\n",
    "spark = SparkSession.builder.config(conf=conf).getOrCreate()\n",
    "\n",
    "print (pyspark.version.__version__)"
   ]
  },
  {
   "cell_type": "code",
   "execution_count": 2,
   "metadata": {},
   "outputs": [
    {
     "name": "stdout",
     "output_type": "stream",
     "text": [
      "1\n"
     ]
    }
   ],
   "source": [
    "print(spark.sparkContext.defaultParallelism)"
   ]
  },
  {
   "cell_type": "code",
   "execution_count": 3,
   "metadata": {},
   "outputs": [],
   "source": [
    "# Record starting time\n",
    "\n",
    "import time\n",
    "start_time = time.time()"
   ]
  },
  {
   "cell_type": "markdown",
   "metadata": {},
   "source": [
    "## Read data"
   ]
  },
  {
   "cell_type": "code",
   "execution_count": 4,
   "metadata": {},
   "outputs": [
    {
     "name": "stdout",
     "output_type": "stream",
     "text": [
      "/scratch/mhnguyen/job_14831921/BookReviews_5M.txt\n"
     ]
    }
   ],
   "source": [
    "# Read data into Spark DataFrame \n",
    "# Data source: https://jmcauley.ucsd.edu/data/amazon/ \n",
    "\n",
    "USER = os.environ['USER']\n",
    "SLURM_JOBID = os.environ['SLURM_JOBID']\n",
    "\n",
    "data_path = '/scratch/' + USER + '/job_' + SLURM_JOBID\n",
    "dataFileName = data_path + \"/BookReviews_5M.txt\"\n",
    "print (dataFileName)\n",
    "\n",
    "textDF = spark.read.text(dataFileName).cache()"
   ]
  },
  {
   "cell_type": "markdown",
   "metadata": {},
   "source": [
    "## Process data"
   ]
  },
  {
   "cell_type": "code",
   "execution_count": 5,
   "metadata": {},
   "outputs": [
    {
     "name": "stdout",
     "output_type": "stream",
     "text": [
      "CPU times: user 2 ms, sys: 127 µs, total: 2.12 ms\n",
      "Wall time: 7.84 s\n"
     ]
    },
    {
     "data": {
      "text/plain": [
       "5000000"
      ]
     },
     "execution_count": 5,
     "metadata": {},
     "output_type": "execute_result"
    }
   ],
   "source": [
    "%%time\n",
    "\n",
    "# Count number of rows\n",
    "textDF.count()"
   ]
  },
  {
   "cell_type": "code",
   "execution_count": 6,
   "metadata": {},
   "outputs": [
    {
     "name": "stdout",
     "output_type": "stream",
     "text": [
      "+--------------------+\n",
      "|               value|\n",
      "+--------------------+\n",
      "|This was the firs...|\n",
      "|Also after going ...|\n",
      "|As with all of Ms...|\n",
      "|I've not read any...|\n",
      "|This romance nove...|\n",
      "|Carolina Garcia A...|\n",
      "|Not only can she ...|\n",
      "|Once again Garcia...|\n",
      "|The timing is jus...|\n",
      "|Engaging. Dark. R...|\n",
      "|Set amid the back...|\n",
      "|This novel is a d...|\n",
      "|If readers are ad...|\n",
      "| Reviewed by Phyllis|\n",
      "|      APOOO BookClub|\n",
      "|A guilty pleasure...|\n",
      "|In the tradition ...|\n",
      "|Beryl Unger, top ...|\n",
      "|What follows is a...|\n",
      "|The book flap say...|\n",
      "+--------------------+\n",
      "only showing top 20 rows\n",
      "\n"
     ]
    }
   ],
   "source": [
    "# Show first few rows\n",
    "\n",
    "textDF.show()"
   ]
  },
  {
   "cell_type": "code",
   "execution_count": 7,
   "metadata": {},
   "outputs": [
    {
     "name": "stdout",
     "output_type": "stream",
     "text": [
      "9.365109205245972\n"
     ]
    }
   ],
   "source": [
    "# Print time since execution start\n",
    "\n",
    "print(time.time() - start_time)"
   ]
  },
  {
   "cell_type": "markdown",
   "metadata": {},
   "source": [
    "## Stop Spark Session"
   ]
  },
  {
   "cell_type": "code",
   "execution_count": 8,
   "metadata": {},
   "outputs": [],
   "source": [
    "spark.stop()"
   ]
  },
  {
   "cell_type": "code",
   "execution_count": null,
   "metadata": {},
   "outputs": [],
   "source": []
  }
 ],
 "metadata": {
  "kernelspec": {
   "display_name": "Python 3",
   "language": "python",
   "name": "python3"
  },
  "language_info": {
   "codemirror_mode": {
    "name": "ipython",
    "version": 3
   },
   "file_extension": ".py",
   "mimetype": "text/x-python",
   "name": "python",
   "nbconvert_exporter": "python",
   "pygments_lexer": "ipython3",
   "version": "3.8.5"
  }
 },
 "nbformat": 4,
 "nbformat_minor": 4
}
