{
 "cells": [
  {
   "cell_type": "markdown",
   "metadata": {},
   "source": [
    "## A short program to do MNIST classification "
   ]
  },
  {
   "cell_type": "code",
   "execution_count": 9,
   "metadata": {},
   "outputs": [
    {
     "name": "stdout",
     "output_type": "stream",
     "text": [
      "Model: \"sequential_5\"\n",
      "_________________________________________________________________\n",
      "Layer (type)                 Output Shape              Param #   \n",
      "=================================================================\n",
      "flatten_8 (Flatten)          (None, 784)               0         \n",
      "_________________________________________________________________\n",
      "dense_11 (Dense)             (None, 32)                25120     \n",
      "_________________________________________________________________\n",
      "dense_12 (Dense)             (None, 10)                330       \n",
      "=================================================================\n",
      "Total params: 25,450\n",
      "Trainable params: 25,450\n",
      "Non-trainable params: 0\n",
      "_________________________________________________________________\n",
      "Epoch 1/15\n",
      "469/469 [==============================] - 0s 626us/step - loss: 1.4110 - accuracy: 0.6141\n",
      "Epoch 2/15\n",
      "469/469 [==============================] - 0s 614us/step - loss: 0.6630 - accuracy: 0.8346\n",
      "Epoch 3/15\n",
      "469/469 [==============================] - 0s 614us/step - loss: 0.4959 - accuracy: 0.8684\n",
      "Epoch 4/15\n",
      "469/469 [==============================] - 0s 618us/step - loss: 0.4263 - accuracy: 0.8836\n",
      "Epoch 5/15\n",
      "469/469 [==============================] - 0s 627us/step - loss: 0.3875 - accuracy: 0.8922\n",
      "Epoch 6/15\n",
      "469/469 [==============================] - 0s 617us/step - loss: 0.3619 - accuracy: 0.8982\n",
      "Epoch 7/15\n",
      "469/469 [==============================] - 0s 619us/step - loss: 0.3434 - accuracy: 0.9025\n",
      "Epoch 8/15\n",
      "469/469 [==============================] - 0s 616us/step - loss: 0.3292 - accuracy: 0.9064\n",
      "Epoch 9/15\n",
      "469/469 [==============================] - 0s 614us/step - loss: 0.3178 - accuracy: 0.9096\n",
      "Epoch 10/15\n",
      "469/469 [==============================] - 0s 614us/step - loss: 0.3080 - accuracy: 0.9121\n",
      "Epoch 11/15\n",
      "469/469 [==============================] - 0s 620us/step - loss: 0.2998 - accuracy: 0.9145\n",
      "Epoch 12/15\n",
      "469/469 [==============================] - 0s 626us/step - loss: 0.2925 - accuracy: 0.9163\n",
      "Epoch 13/15\n",
      "469/469 [==============================] - 0s 623us/step - loss: 0.2860 - accuracy: 0.9178\n",
      "Epoch 14/15\n",
      "469/469 [==============================] - 0s 628us/step - loss: 0.2803 - accuracy: 0.9199\n",
      "Epoch 15/15\n",
      "469/469 [==============================] - 0s 629us/step - loss: 0.2748 - accuracy: 0.9212\n",
      "313/313 [==============================] - 0s 360us/step - loss: 0.2643 - accuracy: 0.9255\n"
     ]
    },
    {
     "data": {
      "text/plain": [
       "[0.26430368423461914, 0.9254999756813049]"
      ]
     },
     "execution_count": 9,
     "metadata": {},
     "output_type": "execute_result"
    }
   ],
   "source": [
    "import warnings\n",
    "import tensorflow as tf\n",
    "\n",
    "#load and prepare data\n",
    "(x_train, y_train), (x_test, y_test) = tf.keras.datasets.mnist.load_data()\n",
    "x_train, x_test                      = x_train / 255.0, x_test / 255.0\n",
    "\n",
    "#specify the neural network model and learning parameters\n",
    "my_model  = tf.keras.models.Sequential([\n",
    "                   tf.keras.layers.Flatten(input_shape=(28, 28)),\n",
    "                   tf.keras.layers.Dense(32,activation='relu'),\n",
    "                   tf.keras.layers.Dense(10,activation='softmax')])\n",
    "my_model.summary()\n",
    "loss2use      = tf.keras.losses.SparseCategoricalCrossentropy(from_logits=True)\n",
    "\n",
    "#configure and fit the model   \n",
    "my_model.compile(optimizer='sgd', loss=loss2use, metrics=['accuracy'])\n",
    "my_model.fit(x_train, y_train, epochs=15, batch_size=128)\n",
    "\n",
    "#after fitting the model, you run evaluate (or do other analysis )\n",
    "my_model.evaluate(x_test, y_test)\n"
   ]
  },
  {
   "cell_type": "code",
   "execution_count": 10,
   "metadata": {},
   "outputs": [
    {
     "name": "stdout",
     "output_type": "stream",
     "text": [
      "Model: \"model_2\"\n",
      "_________________________________________________________________\n",
      "Layer (type)                 Output Shape              Param #   \n",
      "=================================================================\n",
      "input_4 (InputLayer)         [(None, 28, 28, 1)]       0         \n",
      "_________________________________________________________________\n",
      "flatten_9 (Flatten)          (None, 784)               0         \n",
      "_________________________________________________________________\n",
      "dense_13 (Dense)             (None, 32)                25120     \n",
      "_________________________________________________________________\n",
      "dense_14 (Dense)             (None, 10)                330       \n",
      "=================================================================\n",
      "Total params: 25,450\n",
      "Trainable params: 25,450\n",
      "Non-trainable params: 0\n",
      "_________________________________________________________________\n",
      "Epoch 1/15\n",
      "469/469 [==============================] - 0s 619us/step - loss: 1.2892 - accuracy: 0.6754\n",
      "Epoch 2/15\n",
      "469/469 [==============================] - 0s 618us/step - loss: 0.5921 - accuracy: 0.8560\n",
      "Epoch 3/15\n",
      "469/469 [==============================] - 0s 616us/step - loss: 0.4616 - accuracy: 0.8782\n",
      "Epoch 4/15\n",
      "469/469 [==============================] - 0s 621us/step - loss: 0.4089 - accuracy: 0.8884\n",
      "Epoch 5/15\n",
      "469/469 [==============================] - 0s 625us/step - loss: 0.3791 - accuracy: 0.8944\n",
      "Epoch 6/15\n",
      "469/469 [==============================] - 0s 620us/step - loss: 0.3589 - accuracy: 0.8991\n",
      "Epoch 7/15\n",
      "469/469 [==============================] - 0s 626us/step - loss: 0.3443 - accuracy: 0.9029\n",
      "Epoch 8/15\n",
      "469/469 [==============================] - 0s 631us/step - loss: 0.3327 - accuracy: 0.9060\n",
      "Epoch 9/15\n",
      "469/469 [==============================] - 0s 616us/step - loss: 0.3234 - accuracy: 0.9080\n",
      "Epoch 10/15\n",
      "469/469 [==============================] - 0s 616us/step - loss: 0.3155 - accuracy: 0.9105\n",
      "Epoch 11/15\n",
      "469/469 [==============================] - 0s 620us/step - loss: 0.3085 - accuracy: 0.9124\n",
      "Epoch 12/15\n",
      "469/469 [==============================] - 0s 620us/step - loss: 0.3024 - accuracy: 0.9139\n",
      "Epoch 13/15\n",
      "469/469 [==============================] - 0s 637us/step - loss: 0.2969 - accuracy: 0.9151\n",
      "Epoch 14/15\n",
      "469/469 [==============================] - 0s 633us/step - loss: 0.2916 - accuracy: 0.9169\n",
      "Epoch 15/15\n",
      "469/469 [==============================] - 0s 632us/step - loss: 0.2869 - accuracy: 0.9178\n",
      "313/313 [==============================] - 0s 359us/step - loss: 0.2750 - accuracy: 0.9216\n"
     ]
    },
    {
     "data": {
      "text/plain": [
       "[0.2749577760696411, 0.9215999841690063]"
      ]
     },
     "execution_count": 10,
     "metadata": {},
     "output_type": "execute_result"
    }
   ],
   "source": [
    "#Now using model api\n",
    "import warnings\n",
    "import tensorflow as tf\n",
    "\n",
    "#load and prepare data\n",
    "(x_train, y_train), (x_test, y_test) = tf.keras.datasets.mnist.load_data()\n",
    "x_train, x_test                      = x_train / 255.0, x_test / 255.0\n",
    "\n",
    "#specify the neural network model and learning parameters\n",
    "inputs              = tf.keras.layers.Input(shape=(28, 28, 1,))\n",
    "inputs_flattened   = tf.keras.layers.Flatten()(inputs)\n",
    "hidden_layer        = tf.keras.layers.Dense(32,activation='relu')(inputs_flattened)\n",
    "output_layer        = tf.keras.layers.Dense(10,activation='softmax')(hidden_layer)\n",
    "\n",
    "my_model = tf.keras.Model(inputs,output_layer)\n",
    "my_model.summary()\n",
    "\n",
    "loss2use      = tf.keras.losses.SparseCategoricalCrossentropy(from_logits=True)\n",
    "\n",
    "#configure and fit the model   \n",
    "my_model.compile(optimizer='sgd', loss=loss2use, metrics=['accuracy'])\n",
    "my_model.fit(x_train, y_train, epochs=15, batch_size=128)\n",
    "\n",
    "#after fitting the model, you run evaluate (or do other analysis )\n",
    "my_model.evaluate(x_test, y_test)\n"
   ]
  },
  {
   "cell_type": "code",
   "execution_count": null,
   "metadata": {},
   "outputs": [],
   "source": []
  }
 ],
 "metadata": {
  "kernelspec": {
   "display_name": "Python 3 (ipykernel)",
   "language": "python",
   "name": "python3"
  },
  "language_info": {
   "codemirror_mode": {
    "name": "ipython",
    "version": 3
   },
   "file_extension": ".py",
   "mimetype": "text/x-python",
   "name": "python",
   "nbconvert_exporter": "python",
   "pygments_lexer": "ipython3",
   "version": "3.8.10"
  }
 },
 "nbformat": 4,
 "nbformat_minor": 2
}
