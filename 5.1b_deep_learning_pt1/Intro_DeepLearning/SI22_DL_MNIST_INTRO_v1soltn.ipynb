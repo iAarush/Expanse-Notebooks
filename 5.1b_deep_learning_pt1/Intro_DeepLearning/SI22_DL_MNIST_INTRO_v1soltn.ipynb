{
 "cells": [
  {
   "cell_type": "markdown",
   "metadata": {},
   "source": [
    "## MNIST exercise (handwritten printed digits recognition tutorial) ##\n",
    "**Goal: Introduction to Keras, convolution feature maps, and features**\n",
    "\n",
    "**Exercise:**\n",
    "    \n",
    "1. Review the steps of the code in this notebook\n",
    "2. Look for the model.Sequential statement \n",
    "   and fill in the blanks: <br>\n",
    "3. run the notebook, observe the images of filter weights and activations (at end)\n",
    "4. Try changing the filter size for the first convolution layer to something large (like 9x9 or 16x16)\n",
    "        How does that change the images of filter weights and activations?\n",
    "<br>\n",
    "Question to consider: for 10 digits what is min number of filters needed?\n",
    "\n"
   ]
  },
  {
   "cell_type": "code",
   "execution_count": 1,
   "metadata": {},
   "outputs": [
    {
     "name": "stdout",
     "output_type": "stream",
     "text": [
      "import done\n"
     ]
    }
   ],
   "source": [
    "\n",
    "# ----------- IMPORT STATEMENTS ---------------\n",
    "import numpy as np\n",
    "np.random.seed(1)  # for reproducibility\n",
    " \n",
    "from tensorflow import keras\n",
    "import tensorflow as tf\n",
    "import datetime, os\n",
    "\n",
    "\n",
    "#---------------------------------------------\n",
    "print('import done')"
   ]
  },
  {
   "cell_type": "code",
   "execution_count": 2,
   "metadata": {},
   "outputs": [
    {
     "name": "stdout",
     "output_type": "stream",
     "text": [
      "X train shape: (1000, 28, 28, 1)\n",
      "X test shape: (10000, 28, 28, 1)\n"
     ]
    }
   ],
   "source": [
    "#Load MNIST data from Keras datasets\n",
    "(X_train, Y_train), (X_test, Y_test) = tf.keras.datasets.mnist.load_data()\n",
    "\n",
    "X_train=X_train[0:1000,]  #only need smaller subset to get good results\n",
    "Y_train=Y_train[0:1000,]\n",
    "\n",
    "# --------- Reshape input data, b/c Keras expects N-3D images (ie 4D matrix)\n",
    "X_train = X_train[:,:,:,np.newaxis]\n",
    "X_test  = X_test[:,:,:,np.newaxis]\n",
    "\n",
    "#Scale 0 to 1  - or should we not scale\n",
    "X_train = X_train/255.0\n",
    "X_test  = X_test/255.0\n",
    "\n",
    "# Convert 1-dimensional class arrays to 10-dimensional class matrices\n",
    "Y_train = keras.utils.to_categorical(Y_train, 10)\n",
    "Y_test  = keras.utils.to_categorical(Y_test,  10)\n",
    "\n",
    "# ------------- End loading and preparing data --------------\n",
    "print('X train shape:', X_train.shape) \n",
    "print('X test shape:', X_test.shape) \n"
   ]
  },
  {
   "cell_type": "markdown",
   "metadata": {},
   "source": [
    "## 1 Fill in the blanks for the convolution parameters\n",
    "\n",
    "Follow the URL link to see the Keras api documentation for command format\n",
    "\n",
    "https://keras.io/api/layers/convolution_layers/convolution2d/\n",
    "\n",
    "\n",
    "Try for example, 32,16 or 8 filters\n",
    "Try 3x3 or 9x9 or 16x16 filter sizes\n",
    "\n",
    "NOTE that we are using a function to build the model, which will be useful later\n",
    "\n",
    "##  2 Change the optimizer to use Adam\n",
    "Notice that Keras parameters can sometimes be filled in with a string (like 'adam') or sometimes with function like keras.optimizers.Adam(learning_rate=0.01).\n",
    "See the example at this link:\n",
    "\n",
    "https://keras.io/api/optimizers/"
   ]
  },
  {
   "cell_type": "code",
   "execution_count": 3,
   "metadata": {},
   "outputs": [],
   "source": [
    "# --------------Set up Model ---------------------\n",
    "def build_model(numfilters):\n",
    "    mymodel = keras.models.Sequential()\n",
    "    mymodel.add(keras.layers.Convolution2D(numfilters,      #<<<< ------ 1\n",
    "                                       (3, 3),\n",
    "                                       strides=1,  \n",
    "                                       data_format=\"channels_last\",\n",
    "                                       activation='relu', \n",
    "                                       input_shape=(28,28,1))) \n",
    "    mymodel.add(keras.layers.Convolution2D(numfilters,      #<<<< ------ 1\n",
    "                                       (3, 3),\n",
    "                                       strides=1,  \n",
    "                                       data_format=\"channels_last\",\n",
    "                                       activation='relu')) \n",
    "    mymodel.add(keras.layers.MaxPooling2D(pool_size=(2,2),strides=2,data_format=\"channels_last\")) #get Max over 2D region,and slide\n",
    "    mymodel.add(keras.layers.Flatten())            #reorganize 2DxFilters output into 1D\n",
    "  \n",
    "    #----------------Now add final classification layers\n",
    "    mymodel.add(keras.layers.Dense(32, activation='relu'))   \n",
    "    mymodel.add(keras.layers.Dense(10, activation='softmax'))\n",
    "    \n",
    "    # --------- Now configure model algorithm -----\n",
    "    mymodel.compile(loss='categorical_crossentropy',\n",
    "               optimizer=keras.optimizers.Adam(learning_rate=0.01),\n",
    "               metrics=['accuracy'])\n",
    "\n",
    "    return mymodel"
   ]
  },
  {
   "cell_type": "code",
   "execution_count": 4,
   "metadata": {},
   "outputs": [
    {
     "name": "stdout",
     "output_type": "stream",
     "text": [
      "Model: \"sequential\"\n",
      "_________________________________________________________________\n",
      " Layer (type)                Output Shape              Param #   \n",
      "=================================================================\n",
      " conv2d (Conv2D)             (None, 26, 26, 16)        160       \n",
      "                                                                 \n",
      " conv2d_1 (Conv2D)           (None, 24, 24, 16)        2320      \n",
      "                                                                 \n",
      " max_pooling2d (MaxPooling2D  (None, 12, 12, 16)       0         \n",
      " )                                                               \n",
      "                                                                 \n",
      " flatten (Flatten)           (None, 2304)              0         \n",
      "                                                                 \n",
      " dense (Dense)               (None, 32)                73760     \n",
      "                                                                 \n",
      " dense_1 (Dense)             (None, 10)                330       \n",
      "                                                                 \n",
      "=================================================================\n",
      "Total params: 76,570\n",
      "Trainable params: 76,570\n",
      "Non-trainable params: 0\n",
      "_________________________________________________________________\n"
     ]
    },
    {
     "name": "stderr",
     "output_type": "stream",
     "text": [
      "2022-06-26 21:08:56.563052: E tensorflow/stream_executor/cuda/cuda_driver.cc:271] failed call to cuInit: CUDA_ERROR_NO_DEVICE: no CUDA-capable device is detected\n",
      "2022-06-26 21:08:56.563160: I tensorflow/stream_executor/cuda/cuda_diagnostics.cc:156] kernel driver does not appear to be running on this host (exp-1-29): /proc/driver/nvidia/version does not exist\n",
      "2022-06-26 21:08:56.564553: I tensorflow/core/platform/cpu_feature_guard.cc:151] This TensorFlow binary is optimized with oneAPI Deep Neural Network Library (oneDNN) to use the following CPU instructions in performance-critical operations:  SSE3 SSE4.1 SSE4.2 AVX AVX2 FMA\n",
      "To enable them in other operations, rebuild TensorFlow with the appropriate compiler flags.\n"
     ]
    }
   ],
   "source": [
    "# call the build model function\n",
    "mymodel = build_model(numfilters=16)     #<<<---------- set num filters argument here\n",
    "\n",
    "mymodel.summary()"
   ]
  },
  {
   "cell_type": "markdown",
   "metadata": {},
   "source": [
    "## 3 Fill in parameters for the fit method of the model object\n",
    "\n",
    "View the URL model.fit documentation and fill in the validation data\n",
    "\n",
    "https://keras.io/api/models/model_training_apis/#fit-method\n",
    "    "
   ]
  },
  {
   "cell_type": "code",
   "execution_count": 5,
   "metadata": {},
   "outputs": [
    {
     "name": "stdout",
     "output_type": "stream",
     "text": [
      "Epoch 1/50\n",
      "8/8 [==============================] - 1s 91ms/step - loss: 1.6585 - accuracy: 0.4270 - val_loss: 0.9037 - val_accuracy: 0.7252\n",
      "Epoch 2/50\n",
      "8/8 [==============================] - 0s 52ms/step - loss: 0.5178 - accuracy: 0.8510 - val_loss: 0.5155 - val_accuracy: 0.8355\n",
      "Epoch 3/50\n",
      "8/8 [==============================] - 0s 51ms/step - loss: 0.2789 - accuracy: 0.9210 - val_loss: 0.3592 - val_accuracy: 0.8958\n",
      "Epoch 4/50\n",
      "8/8 [==============================] - 0s 60ms/step - loss: 0.1436 - accuracy: 0.9530 - val_loss: 0.2715 - val_accuracy: 0.9210\n",
      "Epoch 5/50\n",
      "8/8 [==============================] - 0s 56ms/step - loss: 0.0823 - accuracy: 0.9800 - val_loss: 0.2437 - val_accuracy: 0.9262\n",
      "Epoch 6/50\n",
      "8/8 [==============================] - 0s 62ms/step - loss: 0.0522 - accuracy: 0.9840 - val_loss: 0.3020 - val_accuracy: 0.9160\n",
      "Epoch 7/50\n",
      "8/8 [==============================] - 0s 56ms/step - loss: 0.0177 - accuracy: 0.9980 - val_loss: 0.3040 - val_accuracy: 0.9242\n",
      "Epoch 8/50\n",
      "8/8 [==============================] - 0s 52ms/step - loss: 0.0107 - accuracy: 0.9960 - val_loss: 0.3420 - val_accuracy: 0.9271\n",
      "Epoch 9/50\n",
      "8/8 [==============================] - 0s 51ms/step - loss: 0.0060 - accuracy: 0.9990 - val_loss: 0.3710 - val_accuracy: 0.9267\n",
      "Epoch 10/50\n",
      "8/8 [==============================] - 0s 50ms/step - loss: 0.0060 - accuracy: 0.9980 - val_loss: 0.3755 - val_accuracy: 0.9252\n"
     ]
    }
   ],
   "source": [
    "myES_function = keras.callbacks.EarlyStopping(monitor='val_loss', mode='min', patience=5,  restore_best_weights=True) #patience before stopping\n",
    "\n",
    "#------------ Now Run Training\n",
    "fit_history=mymodel.fit(X_train, Y_train, \n",
    "          validation_data=(X_test,Y_test),\n",
    "          batch_size=128, epochs=50, verbose=1,callbacks=[myES_function])"
   ]
  },
  {
   "cell_type": "markdown",
   "metadata": {},
   "source": [
    "## The rest of this notebook is plotting and image displays"
   ]
  },
  {
   "cell_type": "code",
   "execution_count": 6,
   "metadata": {},
   "outputs": [
    {
     "name": "stdout",
     "output_type": "stream",
     "text": [
      "dict_keys(['loss', 'accuracy', 'val_loss', 'val_accuracy'])\n"
     ]
    },
    {
     "data": {
      "image/png": "[encoded data removed]",
      "text/plain": [
       "<Figure size 432x288 with 1 Axes>"
      ]
     },
     "metadata": {
      "needs_background": "light"
     },
     "output_type": "display_data"
    }
   ],
   "source": [
    "import matplotlib.pyplot as plt      #These provide matlab type of plotting functions\n",
    "import matplotlib.image as mpimg\n",
    "%matplotlib inline                   \n",
    "\n",
    "# list all data in history and print out performance\n",
    "print(fit_history.history.keys())\n",
    "numtraining_epochs=len(fit_history.history['accuracy'])\n",
    "# summarize history for accuracy\n",
    "plt.figure()\n",
    "plt.axis([0 ,numtraining_epochs, 0, 1])\n",
    "plt.plot(fit_history.history['accuracy'])\n",
    "plt.plot(fit_history.history['val_accuracy'])\n",
    "plt.title('model accuracy')\n",
    "plt.ylabel('accuracy')\n",
    "plt.xlabel('epoch')\n",
    "plt.legend(['train', 'val_test'], loc='upper left')\n",
    "plt.show()"
   ]
  },
  {
   "cell_type": "code",
   "execution_count": 7,
   "metadata": {},
   "outputs": [],
   "source": [
    "#"
   ]
  },
  {
   "cell_type": "code",
   "execution_count": 8,
   "metadata": {},
   "outputs": [
    {
     "data": {
      "text/plain": [
       "<matplotlib.image.AxesImage at 0x155413a33820>"
      ]
     },
     "execution_count": 8,
     "metadata": {},
     "output_type": "execute_result"
    },
    {
     "data": {
      "image/png": "[encoded data removed]",
      "text/plain": [
       "<Figure size 432x288 with 1 Axes>"
      ]
     },
     "metadata": {
      "needs_background": "light"
     },
     "output_type": "display_data"
    }
   ],
   "source": [
    "#To view a sample image\n",
    "import matplotlib.pyplot as plt      #These provide matlab type of plotting functions\n",
    "import matplotlib.image as mpimg\n",
    "\n",
    "tmpimg=np.squeeze(X_train[0,:,:,:]).reshape((28,28))\n",
    "plt.imshow(tmpimg,'gray')   "
   ]
  },
  {
   "cell_type": "code",
   "execution_count": null,
   "metadata": {},
   "outputs": [],
   "source": [
    "\n"
   ]
  },
  {
   "cell_type": "code",
   "execution_count": 9,
   "metadata": {},
   "outputs": [
    {
     "name": "stdout",
     "output_type": "stream",
     "text": [
      "W3D shape Wlist[0]:(16, 3, 3)\n"
     ]
    },
    {
     "data": {
      "image/png": "[encoded data removed]",
      "text/plain": [
       "<Figure size 432x288 with 16 Axes>"
      ]
     },
     "metadata": {
      "needs_background": "light"
     },
     "output_type": "display_data"
    },
    {
     "name": "stdout",
     "output_type": "stream",
     "text": [
      "done plotting weights mosaic\n"
     ]
    }
   ],
   "source": [
    "# ------------ GET WEIGHTS From Convolution Layer and make mosaic image \n",
    "Wlist   =mymodel.layers[0].get_weights()      \n",
    "W3D     =np.squeeze(Wlist[0])\n",
    "W3Dchan =W3D.swapaxes(1,2).swapaxes(0,1)  #get the channels as 1st dimension;\n",
    "print(\"W3D shape Wlist[0]:\"+str(W3Dchan.shape))\n",
    "\n",
    "#plot mosaic of filters of \n",
    "ncol =4\n",
    "nrow =np.ceil(16/ncol).astype(int)   #assume 16 is number of filters\n",
    "plt.figure()\n",
    "for i in range(W3Dchan.shape[0]):\n",
    "   plt.subplot(nrow,ncol,i+1)\n",
    "   plt.imshow(W3Dchan[i],'gray')\n",
    "   plt.axis('off')\n",
    "\n",
    "plt.show()\n",
    "print('done plotting weights mosaic')"
   ]
  },
  {
   "cell_type": "code",
   "execution_count": 10,
   "metadata": {},
   "outputs": [],
   "source": [
    "#"
   ]
  },
  {
   "cell_type": "code",
   "execution_count": 11,
   "metadata": {},
   "outputs": [
    {
     "name": "stdout",
     "output_type": "stream",
     "text": [
      "There are  6 layers with output activations\n"
     ]
    }
   ],
   "source": [
    "#  ---------------- NOW Visualize the activations for the first training example --------\n",
    "#   1. gather activations from the model layers\n",
    "# -------------------------------------------------------------------------\n",
    "import numpy as np\n",
    "\n",
    "layer_outputs     = [layer.output for layer in mymodel.layers[:]]\n",
    "my_model_actvtns  = keras.models.Model(inputs=mymodel.input, outputs=layer_outputs)\n",
    "x                 = np.expand_dims(X_train[0],0)           #set up a 4D input of 1 image training set \n",
    "my_actvtns_output = my_model_actvtns.predict(x)   #for each image get predictions/activatns\n",
    "\n",
    "print('There are ',str(len(my_actvtns_output))+ ' layers with output activations')\n",
    "\n"
   ]
  },
  {
   "cell_type": "code",
   "execution_count": 12,
   "metadata": {
    "scrolled": true
   },
   "outputs": [
    {
     "data": {
      "image/png": "[encoded data removed]",
      "text/plain": [
       "<Figure size 432x288 with 16 Axes>"
      ]
     },
     "metadata": {
      "needs_background": "light"
     },
     "output_type": "display_data"
    },
    {
     "name": "stdout",
     "output_type": "stream",
     "text": [
      "done plotting layer1 activation output mosaic\n"
     ]
    }
   ],
   "source": [
    "# 2.  Now output a mosaic of layer 1\n",
    "layeroutput3D      = np.squeeze(my_actvtns_output[0]) #<<---- -try different layer output     \n",
    "ncol =4\n",
    "nrow =np.ceil(16/ncol).astype(int)\n",
    "plt.figure()\n",
    "for i in range(layeroutput3D.shape[2]):  \n",
    "   plt.subplot(nrow,ncol,i+1)\n",
    "   plt.imshow(layeroutput3D[:,:,i],'gray')\n",
    "   plt.axis('off')\n",
    "#plt.savefig(\"test.png\", bbox_inches='tight')\n",
    "plt.show()\n",
    "print('done plotting layer1 activation output mosaic')\n"
   ]
  },
  {
   "cell_type": "code",
   "execution_count": null,
   "metadata": {},
   "outputs": [],
   "source": []
  }
 ],
 "metadata": {
  "kernelspec": {
   "display_name": "Python 3 (ipykernel)",
   "language": "python",
   "name": "python3"
  },
  "language_info": {
   "codemirror_mode": {
    "name": "ipython",
    "version": 3
   },
   "file_extension": ".py",
   "mimetype": "text/x-python",
   "name": "python",
   "nbconvert_exporter": "python",
   "pygments_lexer": "ipython3",
   "version": "3.8.10"
  }
 },
 "nbformat": 4,
 "nbformat_minor": 4
}
